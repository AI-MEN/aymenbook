{
 "cells": [
  {
   "cell_type": "markdown",
   "id": "fec937e9-ef48-41af-a528-c659042ae9b3",
   "metadata": {},
   "source": [
    "# 2"
   ]
  },
  {
   "cell_type": "code",
   "execution_count": 1,
   "id": "031e247a-d909-4e0a-a0c8-d6ae3cb5ba17",
   "metadata": {
    "tags": [
     "remove_cell"
    ]
   },
   "outputs": [],
   "source": [
    "markd = 'concept2.md'"
   ]
  },
  {
   "cell_type": "code",
   "execution_count": 2,
   "id": "b3823ba5-1ae9-4e17-835a-bcd036e6b4f5",
   "metadata": {
    "tags": [
     "remove_input"
    ]
   },
   "outputs": [
    {
     "data": {
      "image/png": "[encoded data removed]",
      "text/plain": [
       "<Figure size 432x288 with 1 Axes>"
      ]
     },
     "metadata": {
      "filenames": {
       "image/png": "/home/shabou/ws/mynewbook/_build/jupyter_execute/concept2_nb_2_0.png"
      }
     },
     "output_type": "display_data"
    }
   ],
   "source": [
    "from utils import find_recursive_parents\n",
    "import networkx as nx\n",
    "import matplotlib.pyplot as plt\n",
    "\n",
    "list_paires=[]\n",
    "parents = find_recursive_parents(markd, list_paires)     \n",
    "#print (parents)\n",
    "G = nx.DiGraph()\n",
    "G.add_edges_from(parents, label=\"parent\")\n",
    "nx.draw(G, with_labels=True)\n",
    "plt.show()"
   ]
  },
  {
   "cell_type": "markdown",
   "id": "abd8c724-2c78-48f3-ac3c-4b7fd5c22a7d",
   "metadata": {
    "tags": [
     "hide-cell"
    ]
   },
   "source": [
    "```{include} ./concept2.md\n",
    "```"
   ]
  }
 ],
 "metadata": {
  "kernelspec": {
   "display_name": "Python 3 (ipykernel)",
   "language": "python",
   "name": "python3"
  },
  "language_info": {
   "codemirror_mode": {
    "name": "ipython",
    "version": 3
   },
   "file_extension": ".py",
   "mimetype": "text/x-python",
   "name": "python",
   "nbconvert_exporter": "python",
   "pygments_lexer": "ipython3",
   "version": "3.9.12"
  }
 },
 "nbformat": 4,
 "nbformat_minor": 5
}